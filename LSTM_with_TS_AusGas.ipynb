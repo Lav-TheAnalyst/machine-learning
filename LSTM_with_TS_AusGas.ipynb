{
  "nbformat": 4,
  "nbformat_minor": 0,
  "metadata": {
    "kernelspec": {
      "display_name": "Python 3",
      "language": "python",
      "name": "python3"
    },
    "language_info": {
      "codemirror_mode": {
        "name": "ipython",
        "version": 3
      },
      "file_extension": ".py",
      "mimetype": "text/x-python",
      "name": "python",
      "nbconvert_exporter": "python",
      "pygments_lexer": "ipython3",
      "version": "3.6.10"
    },
    "colab": {
      "name": "LSTM with TS - AusGas.ipynb",
      "provenance": []
    },
    "accelerator": "GPU"
  },
  "cells": [
    {
      "cell_type": "markdown",
      "metadata": {
        "id": "VkIGpehwq1wF"
      },
      "source": [
        "Part 1 - Data Preprocessing"
      ]
    },
    {
      "cell_type": "code",
      "metadata": {
        "colab": {
          "base_uri": "https://localhost:8080/"
        },
        "id": "Cc_iZXebMIOP",
        "outputId": "94e468b0-b2f3-47d8-f315-1a945b28eabb"
      },
      "source": [
        "from google.colab import drive\n",
        "drive.mount('/content/drive')"
      ],
      "execution_count": 1,
      "outputs": [
        {
          "output_type": "stream",
          "name": "stdout",
          "text": [
            "Mounted at /content/drive\n"
          ]
        }
      ]
    },
    {
      "cell_type": "code",
      "metadata": {
        "colab": {
          "base_uri": "https://localhost:8080/",
          "height": 206
        },
        "id": "gFqkC13mq1wH",
        "outputId": "21d4baf9-ded9-4a43-e034-f6f73aa37429"
      },
      "source": [
        "import numpy as np\n",
        "import matplotlib.pyplot as plt\n",
        "import pandas as pd\n",
        "from sklearn.metrics import mean_squared_error\n",
        "# Importing the training set\n",
        "dataset_ts = pd.read_csv('/content/drive/MyDrive/Datasets/AusGas.csv')\n",
        "\n",
        "dataset_ts.head()"
      ],
      "execution_count": 2,
      "outputs": [
        {
          "output_type": "execute_result",
          "data": {
            "text/html": [
              "\n",
              "  <div id=\"df-1d5aaa91-d9cf-489b-b885-13bcfb078a7e\">\n",
              "    <div class=\"colab-df-container\">\n",
              "      <div>\n",
              "<style scoped>\n",
              "    .dataframe tbody tr th:only-of-type {\n",
              "        vertical-align: middle;\n",
              "    }\n",
              "\n",
              "    .dataframe tbody tr th {\n",
              "        vertical-align: top;\n",
              "    }\n",
              "\n",
              "    .dataframe thead th {\n",
              "        text-align: right;\n",
              "    }\n",
              "</style>\n",
              "<table border=\"1\" class=\"dataframe\">\n",
              "  <thead>\n",
              "    <tr style=\"text-align: right;\">\n",
              "      <th></th>\n",
              "      <th>Month</th>\n",
              "      <th>GasProd</th>\n",
              "    </tr>\n",
              "  </thead>\n",
              "  <tbody>\n",
              "    <tr>\n",
              "      <th>0</th>\n",
              "      <td>Jan-1956</td>\n",
              "      <td>1709</td>\n",
              "    </tr>\n",
              "    <tr>\n",
              "      <th>1</th>\n",
              "      <td>Feb-1956</td>\n",
              "      <td>1646</td>\n",
              "    </tr>\n",
              "    <tr>\n",
              "      <th>2</th>\n",
              "      <td>Mar-1956</td>\n",
              "      <td>1794</td>\n",
              "    </tr>\n",
              "    <tr>\n",
              "      <th>3</th>\n",
              "      <td>Apr-1956</td>\n",
              "      <td>1878</td>\n",
              "    </tr>\n",
              "    <tr>\n",
              "      <th>4</th>\n",
              "      <td>May-1956</td>\n",
              "      <td>2173</td>\n",
              "    </tr>\n",
              "  </tbody>\n",
              "</table>\n",
              "</div>\n",
              "      <button class=\"colab-df-convert\" onclick=\"convertToInteractive('df-1d5aaa91-d9cf-489b-b885-13bcfb078a7e')\"\n",
              "              title=\"Convert this dataframe to an interactive table.\"\n",
              "              style=\"display:none;\">\n",
              "        \n",
              "  <svg xmlns=\"http://www.w3.org/2000/svg\" height=\"24px\"viewBox=\"0 0 24 24\"\n",
              "       width=\"24px\">\n",
              "    <path d=\"M0 0h24v24H0V0z\" fill=\"none\"/>\n",
              "    <path d=\"M18.56 5.44l.94 2.06.94-2.06 2.06-.94-2.06-.94-.94-2.06-.94 2.06-2.06.94zm-11 1L8.5 8.5l.94-2.06 2.06-.94-2.06-.94L8.5 2.5l-.94 2.06-2.06.94zm10 10l.94 2.06.94-2.06 2.06-.94-2.06-.94-.94-2.06-.94 2.06-2.06.94z\"/><path d=\"M17.41 7.96l-1.37-1.37c-.4-.4-.92-.59-1.43-.59-.52 0-1.04.2-1.43.59L10.3 9.45l-7.72 7.72c-.78.78-.78 2.05 0 2.83L4 21.41c.39.39.9.59 1.41.59.51 0 1.02-.2 1.41-.59l7.78-7.78 2.81-2.81c.8-.78.8-2.07 0-2.86zM5.41 20L4 18.59l7.72-7.72 1.47 1.35L5.41 20z\"/>\n",
              "  </svg>\n",
              "      </button>\n",
              "      \n",
              "  <style>\n",
              "    .colab-df-container {\n",
              "      display:flex;\n",
              "      flex-wrap:wrap;\n",
              "      gap: 12px;\n",
              "    }\n",
              "\n",
              "    .colab-df-convert {\n",
              "      background-color: #E8F0FE;\n",
              "      border: none;\n",
              "      border-radius: 50%;\n",
              "      cursor: pointer;\n",
              "      display: none;\n",
              "      fill: #1967D2;\n",
              "      height: 32px;\n",
              "      padding: 0 0 0 0;\n",
              "      width: 32px;\n",
              "    }\n",
              "\n",
              "    .colab-df-convert:hover {\n",
              "      background-color: #E2EBFA;\n",
              "      box-shadow: 0px 1px 2px rgba(60, 64, 67, 0.3), 0px 1px 3px 1px rgba(60, 64, 67, 0.15);\n",
              "      fill: #174EA6;\n",
              "    }\n",
              "\n",
              "    [theme=dark] .colab-df-convert {\n",
              "      background-color: #3B4455;\n",
              "      fill: #D2E3FC;\n",
              "    }\n",
              "\n",
              "    [theme=dark] .colab-df-convert:hover {\n",
              "      background-color: #434B5C;\n",
              "      box-shadow: 0px 1px 3px 1px rgba(0, 0, 0, 0.15);\n",
              "      filter: drop-shadow(0px 1px 2px rgba(0, 0, 0, 0.3));\n",
              "      fill: #FFFFFF;\n",
              "    }\n",
              "  </style>\n",
              "\n",
              "      <script>\n",
              "        const buttonEl =\n",
              "          document.querySelector('#df-1d5aaa91-d9cf-489b-b885-13bcfb078a7e button.colab-df-convert');\n",
              "        buttonEl.style.display =\n",
              "          google.colab.kernel.accessAllowed ? 'block' : 'none';\n",
              "\n",
              "        async function convertToInteractive(key) {\n",
              "          const element = document.querySelector('#df-1d5aaa91-d9cf-489b-b885-13bcfb078a7e');\n",
              "          const dataTable =\n",
              "            await google.colab.kernel.invokeFunction('convertToInteractive',\n",
              "                                                     [key], {});\n",
              "          if (!dataTable) return;\n",
              "\n",
              "          const docLinkHtml = 'Like what you see? Visit the ' +\n",
              "            '<a target=\"_blank\" href=https://colab.research.google.com/notebooks/data_table.ipynb>data table notebook</a>'\n",
              "            + ' to learn more about interactive tables.';\n",
              "          element.innerHTML = '';\n",
              "          dataTable['output_type'] = 'display_data';\n",
              "          await google.colab.output.renderOutput(dataTable, element);\n",
              "          const docLink = document.createElement('div');\n",
              "          docLink.innerHTML = docLinkHtml;\n",
              "          element.appendChild(docLink);\n",
              "        }\n",
              "      </script>\n",
              "    </div>\n",
              "  </div>\n",
              "  "
            ],
            "text/plain": [
              "      Month  GasProd\n",
              "0  Jan-1956     1709\n",
              "1  Feb-1956     1646\n",
              "2  Mar-1956     1794\n",
              "3  Apr-1956     1878\n",
              "4  May-1956     2173"
            ]
          },
          "metadata": {},
          "execution_count": 2
        }
      ]
    },
    {
      "cell_type": "code",
      "metadata": {
        "colab": {
          "base_uri": "https://localhost:8080/"
        },
        "id": "czE6Ogy7q1wJ",
        "outputId": "359aad7e-109d-4863-8e38-c45938ffa682"
      },
      "source": [
        "dataset_ts.shape"
      ],
      "execution_count": 3,
      "outputs": [
        {
          "output_type": "execute_result",
          "data": {
            "text/plain": [
              "(476, 2)"
            ]
          },
          "metadata": {},
          "execution_count": 3
        }
      ]
    },
    {
      "cell_type": "code",
      "metadata": {
        "scrolled": true,
        "colab": {
          "base_uri": "https://localhost:8080/"
        },
        "id": "lLYqHgfrq1wK",
        "outputId": "1fa701e7-c2ff-45f6-edb2-3c25f652e584"
      },
      "source": [
        "dataset_train = dataset_ts.iloc[:450,:]\n",
        "dataset_train.shape"
      ],
      "execution_count": 4,
      "outputs": [
        {
          "output_type": "execute_result",
          "data": {
            "text/plain": [
              "(450, 2)"
            ]
          },
          "metadata": {},
          "execution_count": 4
        }
      ]
    },
    {
      "cell_type": "code",
      "metadata": {
        "colab": {
          "base_uri": "https://localhost:8080/"
        },
        "id": "yMJAYV4aq1wL",
        "outputId": "44a07996-3713-431f-fecf-3f67c8c63bbe"
      },
      "source": [
        "training_set = dataset_train.iloc[:, 1].values\n",
        "training_set[:5]"
      ],
      "execution_count": 5,
      "outputs": [
        {
          "output_type": "execute_result",
          "data": {
            "text/plain": [
              "array([1709, 1646, 1794, 1878, 2173])"
            ]
          },
          "metadata": {},
          "execution_count": 5
        }
      ]
    },
    {
      "cell_type": "code",
      "metadata": {
        "colab": {
          "base_uri": "https://localhost:8080/"
        },
        "id": "yQuYNKbss6eS",
        "outputId": "dc6f035a-6ec7-4d02-9c5e-d4481aed69ae"
      },
      "source": [
        "training_set.shape"
      ],
      "execution_count": 6,
      "outputs": [
        {
          "output_type": "execute_result",
          "data": {
            "text/plain": [
              "(450,)"
            ]
          },
          "metadata": {},
          "execution_count": 6
        }
      ]
    },
    {
      "cell_type": "markdown",
      "metadata": {
        "id": "f4q4mZO4q1wN"
      },
      "source": [
        "Feature Scaling"
      ]
    },
    {
      "cell_type": "code",
      "metadata": {
        "id": "Zoej09RLq1wP"
      },
      "source": [
        "training_set = training_set.reshape(-1,1)\n",
        "from sklearn.preprocessing import MinMaxScaler\n",
        "sc = MinMaxScaler(feature_range = (0, 1))\n",
        "training_set_scaled = sc.fit_transform(training_set)"
      ],
      "execution_count": 7,
      "outputs": []
    },
    {
      "cell_type": "code",
      "metadata": {
        "colab": {
          "base_uri": "https://localhost:8080/"
        },
        "id": "ctTpQW90tCCH",
        "outputId": "5834f7ca-1b86-4543-e6a8-53828b028215"
      },
      "source": [
        "training_set.shape"
      ],
      "execution_count": 8,
      "outputs": [
        {
          "output_type": "execute_result",
          "data": {
            "text/plain": [
              "(450, 1)"
            ]
          },
          "metadata": {},
          "execution_count": 8
        }
      ]
    },
    {
      "cell_type": "code",
      "metadata": {
        "colab": {
          "base_uri": "https://localhost:8080/"
        },
        "id": "HGjFUHh_q1wV",
        "outputId": "1cb0b923-fa3b-4096-926e-60e2b3229575"
      },
      "source": [
        "training_set_scaled[:5]"
      ],
      "execution_count": 9,
      "outputs": [
        {
          "output_type": "execute_result",
          "data": {
            "text/plain": [
              "array([[0.00103697],\n",
              "       [0.        ],\n",
              "       [0.00243605],\n",
              "       [0.00381868],\n",
              "       [0.00867433]])"
            ]
          },
          "metadata": {},
          "execution_count": 9
        }
      ]
    },
    {
      "cell_type": "markdown",
      "metadata": {
        "id": "dvArwWKNq1wZ"
      },
      "source": [
        "Creating a data structure with timesteps and 1 output"
      ]
    },
    {
      "cell_type": "code",
      "metadata": {
        "id": "4d4_UTSFq1wa"
      },
      "source": [
        "timesteps=10\n",
        "trn_size = dataset_train.shape[0]"
      ],
      "execution_count": 10,
      "outputs": []
    },
    {
      "cell_type": "code",
      "metadata": {
        "id": "UmhBADDtq1wb"
      },
      "source": [
        "X_train = []\n",
        "y_train = []\n",
        "for i in range(timesteps, trn_size):\n",
        "    X_train.append(training_set_scaled[i-timesteps:i, 0])\n",
        "    y_train.append(training_set_scaled[i, 0])\n",
        "X_train, y_train = np.array(X_train), np.array(y_train)\n"
      ],
      "execution_count": 11,
      "outputs": []
    },
    {
      "cell_type": "code",
      "metadata": {
        "colab": {
          "base_uri": "https://localhost:8080/"
        },
        "id": "dcaYzdbcq1wc",
        "outputId": "74551a59-5566-460a-9af1-9946c9b4bda3"
      },
      "source": [
        "X_train.shape"
      ],
      "execution_count": 12,
      "outputs": [
        {
          "output_type": "execute_result",
          "data": {
            "text/plain": [
              "(440, 10)"
            ]
          },
          "metadata": {},
          "execution_count": 12
        }
      ]
    },
    {
      "cell_type": "code",
      "metadata": {
        "colab": {
          "base_uri": "https://localhost:8080/"
        },
        "id": "eIzTVa1dq1we",
        "outputId": "c526fea8-4b95-4554-ecec-28285328fd35"
      },
      "source": [
        "X_train[:1]"
      ],
      "execution_count": 13,
      "outputs": [
        {
          "output_type": "execute_result",
          "data": {
            "text/plain": [
              "array([[0.00103697, 0.        , 0.00243605, 0.00381868, 0.00867433,\n",
              "        0.01111038, 0.01352997, 0.01267406, 0.00885538, 0.00781842]])"
            ]
          },
          "metadata": {},
          "execution_count": 13
        }
      ]
    },
    {
      "cell_type": "code",
      "metadata": {
        "colab": {
          "base_uri": "https://localhost:8080/"
        },
        "id": "VpR06vgjq1wf",
        "outputId": "3403f58b-85bf-45d6-eedc-16fe7c890e33"
      },
      "source": [
        "y_train[:1]"
      ],
      "execution_count": 14,
      "outputs": [
        {
          "output_type": "execute_result",
          "data": {
            "text/plain": [
              "array([0.0052013])"
            ]
          },
          "metadata": {},
          "execution_count": 14
        }
      ]
    },
    {
      "cell_type": "code",
      "metadata": {
        "id": "Noogqqt-q1wf"
      },
      "source": [
        "# Reshaping\n",
        "X_train = np.reshape(X_train, (X_train.shape[0], X_train.shape[1], 1))"
      ],
      "execution_count": 15,
      "outputs": []
    },
    {
      "cell_type": "code",
      "metadata": {
        "colab": {
          "base_uri": "https://localhost:8080/"
        },
        "id": "iiOnFVEgq1wf",
        "outputId": "8392c4c7-78db-4800-c7b9-f4fb2919c68a"
      },
      "source": [
        "X_train.shape"
      ],
      "execution_count": 16,
      "outputs": [
        {
          "output_type": "execute_result",
          "data": {
            "text/plain": [
              "(440, 10, 1)"
            ]
          },
          "metadata": {},
          "execution_count": 16
        }
      ]
    },
    {
      "cell_type": "markdown",
      "metadata": {
        "id": "SfCsHTW5q1wh"
      },
      "source": [
        "Part 2 - Building the RNN"
      ]
    },
    {
      "cell_type": "code",
      "metadata": {
        "id": "Ac1Hh7Hbq1wh"
      },
      "source": [
        "import tensorflow as tf\n",
        "from tensorflow import keras"
      ],
      "execution_count": 17,
      "outputs": []
    },
    {
      "cell_type": "code",
      "metadata": {
        "colab": {
          "base_uri": "https://localhost:8080/"
        },
        "id": "J1WDhbA-q1wj",
        "outputId": "f5609296-0bfb-4ffb-90d2-f37d9496f29f"
      },
      "source": [
        "(X_train.shape[1],X_train.shape[2])"
      ],
      "execution_count": 18,
      "outputs": [
        {
          "output_type": "execute_result",
          "data": {
            "text/plain": [
              "(10, 1)"
            ]
          },
          "metadata": {},
          "execution_count": 18
        }
      ]
    },
    {
      "cell_type": "markdown",
      "metadata": {
        "id": "5TkDKiPzq1wj"
      },
      "source": [
        "Initialising the RNN"
      ]
    },
    {
      "cell_type": "code",
      "source": [
        "tf.random.set_seed(seed=2021)\n",
        "model = keras.Sequential([\n",
        "   tf.keras.layers.LSTM(units=100,return_sequences = True, \n",
        "                            input_shape= (X_train.shape[1],X_train.shape[2]) ),\n",
        "   tf.keras.layers.LSTM(units=70,return_sequences = True ) ,\n",
        "   tf.keras.layers.LSTM(units=50 ) ,\n",
        "   tf.keras.layers.Dense(1)                           \n",
        "])\n",
        "model.compile(optimizer = 'adam', loss = 'mean_squared_error')"
      ],
      "metadata": {
        "id": "XMFWbHoffEWA"
      },
      "execution_count": 19,
      "outputs": []
    },
    {
      "cell_type": "markdown",
      "source": [
        "model.add(keras.layers.LSTM(units=100,return_sequences = True, \n",
        "                            input_shape= (X_train.shape[1],X_train.shape[2]) ))\n",
        "model.add(keras.layers.LSTM(units=70,return_sequences = True ))\n",
        "model.add(keras.layers.LSTM(units=50 ))\n",
        "\n",
        "model.add(keras.layers.Dense(1))\n",
        "\n",
        "model.compile(optimizer = 'adam', loss = 'mean_squared_error')"
      ],
      "metadata": {
        "id": "3tE1xePWfayy"
      }
    },
    {
      "cell_type": "code",
      "metadata": {
        "colab": {
          "base_uri": "https://localhost:8080/"
        },
        "id": "_-dzmh7_q1wl",
        "outputId": "957c03d8-7de4-4a83-acf1-1553ce88e58f"
      },
      "source": [
        "model.summary()"
      ],
      "execution_count": 20,
      "outputs": [
        {
          "output_type": "stream",
          "name": "stdout",
          "text": [
            "Model: \"sequential\"\n",
            "_________________________________________________________________\n",
            " Layer (type)                Output Shape              Param #   \n",
            "=================================================================\n",
            " lstm (LSTM)                 (None, 10, 100)           40800     \n",
            "                                                                 \n",
            " lstm_1 (LSTM)               (None, 10, 70)            47880     \n",
            "                                                                 \n",
            " lstm_2 (LSTM)               (None, 50)                24200     \n",
            "                                                                 \n",
            " dense (Dense)               (None, 1)                 51        \n",
            "                                                                 \n",
            "=================================================================\n",
            "Total params: 112,931\n",
            "Trainable params: 112,931\n",
            "Non-trainable params: 0\n",
            "_________________________________________________________________\n"
          ]
        }
      ]
    },
    {
      "cell_type": "markdown",
      "metadata": {
        "id": "Mvols4Ycq1wm"
      },
      "source": [
        "Fitting the RNN to the Training set"
      ]
    },
    {
      "cell_type": "code",
      "metadata": {
        "colab": {
          "base_uri": "https://localhost:8080/"
        },
        "id": "5lw0wxMEq1wp",
        "outputId": "2f617cf1-0820-4c8b-c336-0e8c32556edf"
      },
      "source": [
        "model.fit(X_train, y_train, epochs = 50, batch_size = 25)"
      ],
      "execution_count": 21,
      "outputs": [
        {
          "output_type": "stream",
          "name": "stdout",
          "text": [
            "Epoch 1/50\n",
            "18/18 [==============================] - 9s 16ms/step - loss: 0.0525\n",
            "Epoch 2/50\n",
            "18/18 [==============================] - 0s 15ms/step - loss: 0.0103\n",
            "Epoch 3/50\n",
            "18/18 [==============================] - 0s 16ms/step - loss: 0.0088\n",
            "Epoch 4/50\n",
            "18/18 [==============================] - 0s 15ms/step - loss: 0.0079\n",
            "Epoch 5/50\n",
            "18/18 [==============================] - 0s 16ms/step - loss: 0.0075\n",
            "Epoch 6/50\n",
            "18/18 [==============================] - 0s 16ms/step - loss: 0.0076\n",
            "Epoch 7/50\n",
            "18/18 [==============================] - 0s 15ms/step - loss: 0.0071\n",
            "Epoch 8/50\n",
            "18/18 [==============================] - 0s 16ms/step - loss: 0.0076\n",
            "Epoch 9/50\n",
            "18/18 [==============================] - 0s 16ms/step - loss: 0.0074\n",
            "Epoch 10/50\n",
            "18/18 [==============================] - 0s 16ms/step - loss: 0.0072\n",
            "Epoch 11/50\n",
            "18/18 [==============================] - 0s 15ms/step - loss: 0.0076\n",
            "Epoch 12/50\n",
            "18/18 [==============================] - 0s 15ms/step - loss: 0.0071\n",
            "Epoch 13/50\n",
            "18/18 [==============================] - 0s 15ms/step - loss: 0.0072\n",
            "Epoch 14/50\n",
            "18/18 [==============================] - 0s 16ms/step - loss: 0.0071\n",
            "Epoch 15/50\n",
            "18/18 [==============================] - 0s 15ms/step - loss: 0.0070\n",
            "Epoch 16/50\n",
            "18/18 [==============================] - 0s 15ms/step - loss: 0.0074\n",
            "Epoch 17/50\n",
            "18/18 [==============================] - 0s 15ms/step - loss: 0.0091\n",
            "Epoch 18/50\n",
            "18/18 [==============================] - 0s 16ms/step - loss: 0.0077\n",
            "Epoch 19/50\n",
            "18/18 [==============================] - 0s 16ms/step - loss: 0.0079\n",
            "Epoch 20/50\n",
            "18/18 [==============================] - 0s 15ms/step - loss: 0.0073\n",
            "Epoch 21/50\n",
            "18/18 [==============================] - 0s 15ms/step - loss: 0.0072\n",
            "Epoch 22/50\n",
            "18/18 [==============================] - 0s 16ms/step - loss: 0.0069\n",
            "Epoch 23/50\n",
            "18/18 [==============================] - 0s 15ms/step - loss: 0.0074\n",
            "Epoch 24/50\n",
            "18/18 [==============================] - 0s 16ms/step - loss: 0.0065\n",
            "Epoch 25/50\n",
            "18/18 [==============================] - 0s 15ms/step - loss: 0.0068\n",
            "Epoch 26/50\n",
            "18/18 [==============================] - 0s 15ms/step - loss: 0.0063\n",
            "Epoch 27/50\n",
            "18/18 [==============================] - 0s 15ms/step - loss: 0.0061\n",
            "Epoch 28/50\n",
            "18/18 [==============================] - 0s 16ms/step - loss: 0.0058\n",
            "Epoch 29/50\n",
            "18/18 [==============================] - 0s 15ms/step - loss: 0.0044\n",
            "Epoch 30/50\n",
            "18/18 [==============================] - 0s 15ms/step - loss: 0.0036\n",
            "Epoch 31/50\n",
            "18/18 [==============================] - 0s 16ms/step - loss: 0.0029\n",
            "Epoch 32/50\n",
            "18/18 [==============================] - 0s 16ms/step - loss: 0.0030\n",
            "Epoch 33/50\n",
            "18/18 [==============================] - 0s 16ms/step - loss: 0.0024\n",
            "Epoch 34/50\n",
            "18/18 [==============================] - 0s 15ms/step - loss: 0.0018\n",
            "Epoch 35/50\n",
            "18/18 [==============================] - 0s 16ms/step - loss: 0.0018\n",
            "Epoch 36/50\n",
            "18/18 [==============================] - 0s 16ms/step - loss: 0.0027\n",
            "Epoch 37/50\n",
            "18/18 [==============================] - 0s 16ms/step - loss: 0.0017\n",
            "Epoch 38/50\n",
            "18/18 [==============================] - 0s 15ms/step - loss: 0.0016\n",
            "Epoch 39/50\n",
            "18/18 [==============================] - 0s 15ms/step - loss: 0.0029\n",
            "Epoch 40/50\n",
            "18/18 [==============================] - 0s 15ms/step - loss: 0.0020\n",
            "Epoch 41/50\n",
            "18/18 [==============================] - 0s 16ms/step - loss: 0.0014\n",
            "Epoch 42/50\n",
            "18/18 [==============================] - 0s 15ms/step - loss: 0.0018\n",
            "Epoch 43/50\n",
            "18/18 [==============================] - 0s 15ms/step - loss: 0.0016\n",
            "Epoch 44/50\n",
            "18/18 [==============================] - 0s 16ms/step - loss: 0.0013\n",
            "Epoch 45/50\n",
            "18/18 [==============================] - 0s 16ms/step - loss: 0.0012\n",
            "Epoch 46/50\n",
            "18/18 [==============================] - 0s 16ms/step - loss: 0.0013\n",
            "Epoch 47/50\n",
            "18/18 [==============================] - 0s 15ms/step - loss: 0.0012\n",
            "Epoch 48/50\n",
            "18/18 [==============================] - 0s 15ms/step - loss: 0.0011\n",
            "Epoch 49/50\n",
            "18/18 [==============================] - 0s 15ms/step - loss: 0.0012\n",
            "Epoch 50/50\n",
            "18/18 [==============================] - 0s 15ms/step - loss: 0.0012\n"
          ]
        },
        {
          "output_type": "execute_result",
          "data": {
            "text/plain": [
              "<keras.callbacks.History at 0x7f19d0050190>"
            ]
          },
          "metadata": {},
          "execution_count": 21
        }
      ]
    },
    {
      "cell_type": "markdown",
      "metadata": {
        "id": "L2U9Qh3Wq1wq"
      },
      "source": [
        "Part 3 - Making the predictions and visualising the results"
      ]
    },
    {
      "cell_type": "code",
      "metadata": {
        "colab": {
          "base_uri": "https://localhost:8080/"
        },
        "id": "u5-tDyf8q1wq",
        "outputId": "198115d7-2fad-4782-d5c3-92d17b46a8a0"
      },
      "source": [
        "dataset_test = dataset_ts.iloc[450:,:]\n",
        "dataset_test.shape"
      ],
      "execution_count": 22,
      "outputs": [
        {
          "output_type": "execute_result",
          "data": {
            "text/plain": [
              "(26, 2)"
            ]
          },
          "metadata": {},
          "execution_count": 22
        }
      ]
    },
    {
      "cell_type": "code",
      "metadata": {
        "colab": {
          "base_uri": "https://localhost:8080/"
        },
        "id": "es9BpBTaq1wr",
        "outputId": "09848c51-7ed7-4c01-98f3-bb50d858dd0f"
      },
      "source": [
        "test_set = dataset_test.iloc[:, 1].values\n",
        "test_set"
      ],
      "execution_count": 23,
      "outputs": [
        {
          "output_type": "execute_result",
          "data": {
            "text/plain": [
              "array([56807, 54634, 51367, 48073, 46251, 43736, 39975, 40478, 46895,\n",
              "       46147, 55011, 57799, 62450, 63896, 57784, 53231, 50354, 38410,\n",
              "       41600, 41471, 46287, 49013, 56624, 61739, 66600, 60054])"
            ]
          },
          "metadata": {},
          "execution_count": 23
        }
      ]
    },
    {
      "cell_type": "code",
      "metadata": {
        "colab": {
          "base_uri": "https://localhost:8080/"
        },
        "id": "N-jZoCTHq1wr",
        "outputId": "b93226b8-6dc7-42f5-8afc-486f97bbc85b"
      },
      "source": [
        "dataset_total = pd.concat((dataset_train['GasProd'], dataset_test['GasProd']), axis = 0)\n",
        "dataset_total"
      ],
      "execution_count": 24,
      "outputs": [
        {
          "output_type": "execute_result",
          "data": {
            "text/plain": [
              "0       1709\n",
              "1       1646\n",
              "2       1794\n",
              "3       1878\n",
              "4       2173\n",
              "       ...  \n",
              "471    49013\n",
              "472    56624\n",
              "473    61739\n",
              "474    66600\n",
              "475    60054\n",
              "Name: GasProd, Length: 476, dtype: int64"
            ]
          },
          "metadata": {},
          "execution_count": 24
        }
      ]
    },
    {
      "cell_type": "code",
      "metadata": {
        "colab": {
          "base_uri": "https://localhost:8080/"
        },
        "id": "oERBaeI4q1ws",
        "outputId": "6aec6979-42b8-4507-a0b7-830ad93fec18"
      },
      "source": [
        "inputs = dataset_total[len(dataset_total) - len(dataset_test) - timesteps:].values\n",
        "inputs = inputs.reshape(-1,1)\n",
        "len(inputs)"
      ],
      "execution_count": 25,
      "outputs": [
        {
          "output_type": "execute_result",
          "data": {
            "text/plain": [
              "36"
            ]
          },
          "metadata": {},
          "execution_count": 25
        }
      ]
    },
    {
      "cell_type": "code",
      "metadata": {
        "colab": {
          "base_uri": "https://localhost:8080/"
        },
        "id": "iQIBVGzCq1ws",
        "outputId": "027ee807-eac1-4317-b601-ed01653b0904"
      },
      "source": [
        "inputs = sc.transform(inputs)\n",
        "X_test = []\n",
        "for i in range(timesteps, len(inputs)):\n",
        "    X_test.append(inputs[i-timesteps:i, 0])\n",
        "X_test = np.array(X_test)\n",
        "X_test = np.reshape(X_test, (X_test.shape[0], X_test.shape[1], 1))\n",
        "X_test.shape"
      ],
      "execution_count": 26,
      "outputs": [
        {
          "output_type": "execute_result",
          "data": {
            "text/plain": [
              "(26, 10, 1)"
            ]
          },
          "metadata": {},
          "execution_count": 26
        }
      ]
    },
    {
      "cell_type": "code",
      "metadata": {
        "colab": {
          "base_uri": "https://localhost:8080/"
        },
        "id": "kzMib6Mqq1wt",
        "outputId": "881190aa-1e7e-4d86-8abe-6c9a4fdd612b"
      },
      "source": [
        "predicted_values = model.predict(X_test)\n",
        "predicted_values"
      ],
      "execution_count": 27,
      "outputs": [
        {
          "output_type": "execute_result",
          "data": {
            "text/plain": [
              "array([[0.95648646],\n",
              "       [0.9465517 ],\n",
              "       [0.8532172 ],\n",
              "       [0.7361259 ],\n",
              "       [0.6432518 ],\n",
              "       [0.60328025],\n",
              "       [0.5951632 ],\n",
              "       [0.6228335 ],\n",
              "       [0.65574646],\n",
              "       [0.7418416 ],\n",
              "       [0.79913294],\n",
              "       [0.8825216 ],\n",
              "       [0.9315182 ],\n",
              "       [0.94930923],\n",
              "       [0.93021905],\n",
              "       [0.8398452 ],\n",
              "       [0.7395553 ],\n",
              "       [0.68505514],\n",
              "       [0.5997851 ],\n",
              "       [0.5822381 ],\n",
              "       [0.6315495 ],\n",
              "       [0.7373555 ],\n",
              "       [0.8596857 ],\n",
              "       [0.974172  ],\n",
              "       [1.0226202 ],\n",
              "       [1.0231729 ]], dtype=float32)"
            ]
          },
          "metadata": {},
          "execution_count": 27
        }
      ]
    },
    {
      "cell_type": "code",
      "metadata": {
        "colab": {
          "base_uri": "https://localhost:8080/"
        },
        "id": "P9b3IwiAq1wt",
        "outputId": "45943501-588c-4970-b0ba-6fb63e497c61"
      },
      "source": [
        "predicted_values.shape"
      ],
      "execution_count": 28,
      "outputs": [
        {
          "output_type": "execute_result",
          "data": {
            "text/plain": [
              "(26, 1)"
            ]
          },
          "metadata": {},
          "execution_count": 28
        }
      ]
    },
    {
      "cell_type": "code",
      "metadata": {
        "colab": {
          "base_uri": "https://localhost:8080/"
        },
        "id": "NRkoTwQqq1wu",
        "outputId": "b0b73934-877b-44c9-d2c5-8b0742993fcf"
      },
      "source": [
        "predicted_values = sc.inverse_transform(predicted_values)\n",
        "predicted_values"
      ],
      "execution_count": 29,
      "outputs": [
        {
          "output_type": "execute_result",
          "data": {
            "text/plain": [
              "array([[59756.38 ],\n",
              "       [59152.8  ],\n",
              "       [53482.355],\n",
              "       [46368.594],\n",
              "       [40726.117],\n",
              "       [38297.688],\n",
              "       [37804.547],\n",
              "       [39485.625],\n",
              "       [41485.223],\n",
              "       [46715.848],\n",
              "       [50196.523],\n",
              "       [55262.72 ],\n",
              "       [58239.457],\n",
              "       [59320.332],\n",
              "       [58160.527],\n",
              "       [52669.953],\n",
              "       [46576.94 ],\n",
              "       [43265.84 ],\n",
              "       [38085.344],\n",
              "       [37019.293],\n",
              "       [40015.156],\n",
              "       [46443.293],\n",
              "       [53875.348],\n",
              "       [60830.844],\n",
              "       [63774.266],\n",
              "       [63807.84 ]], dtype=float32)"
            ]
          },
          "metadata": {},
          "execution_count": 29
        }
      ]
    },
    {
      "cell_type": "markdown",
      "metadata": {
        "id": "SLYUimjmq1wu"
      },
      "source": [
        "Visualising the results"
      ]
    },
    {
      "cell_type": "code",
      "metadata": {
        "id": "-jiq6WN_q1wv"
      },
      "source": [
        "%matplotlib inline"
      ],
      "execution_count": 30,
      "outputs": []
    },
    {
      "cell_type": "code",
      "metadata": {
        "colab": {
          "base_uri": "https://localhost:8080/",
          "height": 295
        },
        "id": "yXO1gomDq1wv",
        "outputId": "506ed478-0e6e-479c-f9d4-f78e57962980"
      },
      "source": [
        "plt.plot(test_set, color = 'red', label = 'Real Gas Production')\n",
        "plt.plot(predicted_values, color = 'blue', label = 'Predicted Gas Production')\n",
        "plt.title('Gas Production Prediction')\n",
        "plt.xlabel('Time')\n",
        "plt.ylabel('Gas Production')\n",
        "plt.legend()\n",
        "plt.show()"
      ],
      "execution_count": 31,
      "outputs": [
        {
          "output_type": "display_data",
          "data": {
            "image/png": "[encoded data removed]",
            "text/plain": [
              "<Figure size 432x288 with 1 Axes>"
            ]
          },
          "metadata": {
            "needs_background": "light"
          }
        }
      ]
    },
    {
      "cell_type": "markdown",
      "metadata": {
        "id": "pB6tA_bDq1wv"
      },
      "source": [
        "Root Mean Square Error"
      ]
    },
    {
      "cell_type": "code",
      "metadata": {
        "colab": {
          "base_uri": "https://localhost:8080/"
        },
        "id": "46PFYCRtq1ww",
        "outputId": "3ed993db-7420-4e1a-b1aa-2714c3199861"
      },
      "source": [
        "print(np.sqrt(mean_squared_error(predicted_values,test_set)))"
      ],
      "execution_count": 32,
      "outputs": [
        {
          "output_type": "stream",
          "name": "stdout",
          "text": [
            "3653.3847089852134\n"
          ]
        }
      ]
    },
    {
      "cell_type": "code",
      "metadata": {
        "id": "AUciEeruq1ww"
      },
      "source": [
        ""
      ],
      "execution_count": null,
      "outputs": []
    }
  ]
}